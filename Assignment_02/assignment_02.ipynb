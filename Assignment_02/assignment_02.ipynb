{
 "cells": [
  {
   "cell_type": "markdown",
   "metadata": {},
   "source": [
    "# Takes user input only integers upto 10 number"
   ]
  },
  {
   "cell_type": "code",
   "execution_count": 8,
   "metadata": {},
   "outputs": [
    {
     "name": "stdout",
     "output_type": "stream",
     "text": [
      "Enter 10 integers:\n",
      "45\n",
      "58\n",
      "21\n",
      "0.5\n",
      "try integer values\n",
      "25\n",
      "87\n",
      "33\n",
      "65\n",
      "29\n",
      "kj\n",
      "try integer values\n",
      "17\n",
      "295\n",
      "[45, 58, 21, 25, 87, 33, 65, 29, 17, 295]\n"
     ]
    }
   ],
   "source": [
    "int_lst=list()\n",
    "count=0\n",
    "print('Enter 10 integers:')\n",
    "while count < 10:\n",
    "    value=input()\n",
    "    if value.isnumeric():\n",
    "        int_lst.append(value)\n",
    "        count = count + 1\n",
    "    else:\n",
    "        print('try integer values')\n",
    "# The values that are appended in list are taken as string to covert them to integers the following code is written.        \n",
    "for i in range(len(int_lst)):\n",
    "    int_lst[i]=int(int_lst[i])\n",
    "    \n",
    "    \n",
    "print(int_lst)"
   ]
  },
  {
   "cell_type": "markdown",
   "metadata": {},
   "source": [
    "# To find the minimum number in the list"
   ]
  },
  {
   "cell_type": "code",
   "execution_count": 9,
   "metadata": {},
   "outputs": [
    {
     "name": "stdout",
     "output_type": "stream",
     "text": [
      "17\n"
     ]
    }
   ],
   "source": [
    "min_num=int_lst[0]\n",
    "for i in range(len(int_lst)):\n",
    "    if int_lst[i]<min_num:\n",
    "        min_num=int_lst[i]\n",
    "print(min_num)"
   ]
  },
  {
   "cell_type": "markdown",
   "metadata": {},
   "source": [
    "# To find the maximum number in the list"
   ]
  },
  {
   "cell_type": "code",
   "execution_count": 10,
   "metadata": {},
   "outputs": [
    {
     "name": "stdout",
     "output_type": "stream",
     "text": [
      "295\n"
     ]
    }
   ],
   "source": [
    "max_num=int_lst[0]\n",
    "for i in range(len(int_lst)):\n",
    "    if int_lst[i]>max_num:\n",
    "        max_num=int_lst[i]\n",
    "print(max_num)"
   ]
  },
  {
   "cell_type": "markdown",
   "metadata": {},
   "source": [
    "# Range is defined as difference between minimum number and maximum number"
   ]
  },
  {
   "cell_type": "code",
   "execution_count": 11,
   "metadata": {},
   "outputs": [
    {
     "name": "stdout",
     "output_type": "stream",
     "text": [
      "The range of the list is: 278\n"
     ]
    }
   ],
   "source": [
    "RANGE = max_num - min_num\n",
    "print('The range of the list is:',RANGE)"
   ]
  },
  {
   "cell_type": "markdown",
   "metadata": {},
   "source": [
    "# Mean is defined average of the list divided by the total numbers in the list"
   ]
  },
  {
   "cell_type": "code",
   "execution_count": 12,
   "metadata": {},
   "outputs": [
    {
     "name": "stdout",
     "output_type": "stream",
     "text": [
      "Mean of the list: 67.5\n"
     ]
    }
   ],
   "source": [
    "Avg=0\n",
    "for i in range(len(int_lst)):\n",
    "    Avg=Avg+int_lst[i]\n",
    "mean=Avg/len(int_lst)\n",
    "print('Mean of the list:',mean)\n"
   ]
  },
  {
   "cell_type": "markdown",
   "metadata": {},
   "source": [
    "# Variance"
   ]
  },
  {
   "cell_type": "code",
   "execution_count": 13,
   "metadata": {},
   "outputs": [
    {
     "name": "stdout",
     "output_type": "stream",
     "text": [
      "Variance of the list: 6193.05\n"
     ]
    }
   ],
   "source": [
    "tot_sqr=0\n",
    "for i in range(len(int_lst)):\n",
    "    y=mean-int_lst[i]\n",
    "    sqr= y*y\n",
    "    tot_sqr=tot_sqr+sqr\n",
    "\n",
    "variance=tot_sqr/len(int_lst)\n",
    "print('Variance of the list:',variance)    "
   ]
  },
  {
   "cell_type": "markdown",
   "metadata": {},
   "source": [
    "# Standarad deviation is square root of variance"
   ]
  },
  {
   "cell_type": "code",
   "execution_count": 14,
   "metadata": {},
   "outputs": [
    {
     "data": {
      "text/plain": [
       "78.69593382125915"
      ]
     },
     "execution_count": 14,
     "metadata": {},
     "output_type": "execute_result"
    }
   ],
   "source": [
    "Standarad_deviation = variance ** 0.5\n",
    "Standarad_deviation"
   ]
  },
  {
   "cell_type": "code",
   "execution_count": null,
   "metadata": {},
   "outputs": [],
   "source": []
  }
 ],
 "metadata": {
  "kernelspec": {
   "display_name": "Python 3",
   "language": "python",
   "name": "python3"
  },
  "language_info": {
   "codemirror_mode": {
    "name": "ipython",
    "version": 3
   },
   "file_extension": ".py",
   "mimetype": "text/x-python",
   "name": "python",
   "nbconvert_exporter": "python",
   "pygments_lexer": "ipython3",
   "version": "3.8.5"
  }
 },
 "nbformat": 4,
 "nbformat_minor": 4
}

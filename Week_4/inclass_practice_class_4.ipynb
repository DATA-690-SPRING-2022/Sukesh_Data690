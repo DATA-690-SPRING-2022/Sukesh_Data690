{
  "nbformat": 4,
  "nbformat_minor": 0,
  "metadata": {
    "colab": {
      "name": "inclass_practice_class_4.ipynb",
      "provenance": [],
      "authorship_tag": "ABX9TyNLO95FFVGlfC2EwCgclYdp",
      "include_colab_link": true
    },
    "kernelspec": {
      "name": "python3",
      "display_name": "Python 3"
    },
    "language_info": {
      "name": "python"
    }
  },
  "cells": [
    {
      "cell_type": "markdown",
      "metadata": {
        "id": "view-in-github",
        "colab_type": "text"
      },
      "source": [
        "<a href=\"https://colab.research.google.com/github/Sukesh-bitragunta/Sukesh_Data690/blob/main/Week_4/inclass_practice_class_4.ipynb\" target=\"_parent\"><img src=\"https://colab.research.google.com/assets/colab-badge.svg\" alt=\"Open In Colab\"/></a>"
      ]
    },
    {
      "cell_type": "code",
      "execution_count": 1,
      "metadata": {
        "colab": {
          "base_uri": "https://localhost:8080/"
        },
        "id": "xMupUFgJ7r27",
        "outputId": "881400ea-4eda-4426-8a53-8c23933104a9"
      },
      "outputs": [
        {
          "output_type": "stream",
          "name": "stdout",
          "text": [
            "\n",
            " 4 0 8 @ 6 4 @ @ @ @ \n",
            " @ @ @ @ 8 @ 4 6 2 @ \n",
            " 6 @ 6 @ @ 4 2 4 0 @ \n",
            " @ 0 @ 0 @ @ 8 2 6 @ \n",
            " @ 0 8 @ @ @ @ @ @ 4 \n",
            " 0 @ @ 4 6 @ @ @ @ @ \n",
            " 8 0 0 @ 4 @ 2 @ 0 @ \n",
            " @ 4 2 0 @ 4 @ 0 @ 8 \n",
            " @ @ 8 2 2 @ 2 4 8 @ \n",
            " 2 8 4 @ @ 4 4 8 2 @ "
          ]
        }
      ],
      "source": [
        "import random\n",
        "import re\n",
        "for i in range(0,10):\n",
        "    print(end=\"\\n \")\n",
        "    for j in range(0,10):\n",
        "        num=random.randint(0,9)\n",
        "        if (num % 2) == 0:\n",
        "            print(num, end=\" \")\n",
        "        else:\n",
        "            strnum = str(num)\n",
        "            strnum=strnum.replace(strnum,\"@\")\n",
        "            print(strnum, end=\" \")\n"
      ]
    },
    {
      "cell_type": "code",
      "source": [
        "x = \"Hello, wporld!\"\n",
        "\n",
        "print(x)"
      ],
      "metadata": {
        "colab": {
          "base_uri": "https://localhost:8080/"
        },
        "id": "n18gw1d98oo1",
        "outputId": "95e9686c-3ab8-4ee4-ee8b-ddd8cbe97163"
      },
      "execution_count": 2,
      "outputs": [
        {
          "output_type": "stream",
          "name": "stdout",
          "text": [
            "Hello, wporld!\n"
          ]
        }
      ]
    },
    {
      "cell_type": "code",
      "source": [
        "x = x.replace(\"p\", \"\")\n",
        "\n",
        "print(x)\n"
      ],
      "metadata": {
        "colab": {
          "base_uri": "https://localhost:8080/"
        },
        "id": "nNQL_Zm58tEL",
        "outputId": "ee2bab9a-ba2a-4b78-9f39-68f2e6dc723d"
      },
      "execution_count": 3,
      "outputs": [
        {
          "output_type": "stream",
          "name": "stdout",
          "text": [
            "Hello, world!\n"
          ]
        }
      ]
    },
    {
      "cell_type": "code",
      "source": [
        "x = x.replace(\"Hello\", \"Hi\")\n",
        "\n",
        "print(x)"
      ],
      "metadata": {
        "colab": {
          "base_uri": "https://localhost:8080/"
        },
        "id": "UawiF1f887XQ",
        "outputId": "cd87e89b-4d56-495d-a35d-437660f50496"
      },
      "execution_count": 4,
      "outputs": [
        {
          "output_type": "stream",
          "name": "stdout",
          "text": [
            "Hi, world!\n"
          ]
        }
      ]
    },
    {
      "cell_type": "code",
      "source": [
        "x = x.replace(\"w\", \"W\")\n",
        "\n",
        "print(x)"
      ],
      "metadata": {
        "colab": {
          "base_uri": "https://localhost:8080/"
        },
        "id": "Qm8uxQ7Y88tE",
        "outputId": "c3b3c91f-40bd-4fef-a10f-46cb18a436bf"
      },
      "execution_count": 5,
      "outputs": [
        {
          "output_type": "stream",
          "name": "stdout",
          "text": [
            "Hi, World!\n"
          ]
        }
      ]
    },
    {
      "cell_type": "code",
      "source": [
        "x = x.lower()\n",
        "\n",
        "print(x)"
      ],
      "metadata": {
        "colab": {
          "base_uri": "https://localhost:8080/"
        },
        "id": "iArTObwD9Alt",
        "outputId": "e8fde7a4-a5cc-43a7-ca59-e8f023f64b9e"
      },
      "execution_count": 6,
      "outputs": [
        {
          "output_type": "stream",
          "name": "stdout",
          "text": [
            "hi, world!\n"
          ]
        }
      ]
    },
    {
      "cell_type": "code",
      "source": [
        "numbers=[]     # This list is to hold 100 random numbers\n",
        "for i in range(100):\n",
        "    numbers.append(random.randint(0, 9))\n",
        "\n",
        "print(numbers)\n",
        "print(len(numbers))"
      ],
      "metadata": {
        "colab": {
          "base_uri": "https://localhost:8080/"
        },
        "id": "PDnMV8lt9Eo3",
        "outputId": "e644dd15-fed3-4a98-e059-feff32f205dd"
      },
      "execution_count": 7,
      "outputs": [
        {
          "output_type": "stream",
          "name": "stdout",
          "text": [
            "[4, 7, 2, 2, 0, 1, 8, 3, 6, 0, 7, 7, 5, 8, 3, 8, 2, 5, 6, 3, 0, 1, 8, 7, 1, 3, 3, 2, 5, 2, 0, 6, 8, 2, 9, 5, 3, 4, 3, 4, 3, 7, 9, 0, 4, 2, 3, 6, 6, 7, 6, 1, 1, 2, 7, 8, 3, 3, 7, 0, 8, 5, 2, 4, 5, 3, 0, 9, 2, 3, 7, 7, 5, 9, 5, 9, 3, 2, 6, 8, 4, 8, 0, 4, 6, 6, 9, 4, 7, 3, 9, 8, 4, 2, 5, 4, 1, 7, 2, 8]\n",
            "100\n"
          ]
        }
      ]
    },
    {
      "cell_type": "code",
      "source": [
        "for i in range(0,100,1):\n",
        "    print(\"index = \", i, \"member = \", numbers[i])"
      ],
      "metadata": {
        "colab": {
          "base_uri": "https://localhost:8080/"
        },
        "id": "djKoVmGU9Qvm",
        "outputId": "f89ee9e6-354d-48bd-8f1b-bccde5d87ce9"
      },
      "execution_count": 8,
      "outputs": [
        {
          "output_type": "stream",
          "name": "stdout",
          "text": [
            "index =  0 member =  4\n",
            "index =  1 member =  7\n",
            "index =  2 member =  2\n",
            "index =  3 member =  2\n",
            "index =  4 member =  0\n",
            "index =  5 member =  1\n",
            "index =  6 member =  8\n",
            "index =  7 member =  3\n",
            "index =  8 member =  6\n",
            "index =  9 member =  0\n",
            "index =  10 member =  7\n",
            "index =  11 member =  7\n",
            "index =  12 member =  5\n",
            "index =  13 member =  8\n",
            "index =  14 member =  3\n",
            "index =  15 member =  8\n",
            "index =  16 member =  2\n",
            "index =  17 member =  5\n",
            "index =  18 member =  6\n",
            "index =  19 member =  3\n",
            "index =  20 member =  0\n",
            "index =  21 member =  1\n",
            "index =  22 member =  8\n",
            "index =  23 member =  7\n",
            "index =  24 member =  1\n",
            "index =  25 member =  3\n",
            "index =  26 member =  3\n",
            "index =  27 member =  2\n",
            "index =  28 member =  5\n",
            "index =  29 member =  2\n",
            "index =  30 member =  0\n",
            "index =  31 member =  6\n",
            "index =  32 member =  8\n",
            "index =  33 member =  2\n",
            "index =  34 member =  9\n",
            "index =  35 member =  5\n",
            "index =  36 member =  3\n",
            "index =  37 member =  4\n",
            "index =  38 member =  3\n",
            "index =  39 member =  4\n",
            "index =  40 member =  3\n",
            "index =  41 member =  7\n",
            "index =  42 member =  9\n",
            "index =  43 member =  0\n",
            "index =  44 member =  4\n",
            "index =  45 member =  2\n",
            "index =  46 member =  3\n",
            "index =  47 member =  6\n",
            "index =  48 member =  6\n",
            "index =  49 member =  7\n",
            "index =  50 member =  6\n",
            "index =  51 member =  1\n",
            "index =  52 member =  1\n",
            "index =  53 member =  2\n",
            "index =  54 member =  7\n",
            "index =  55 member =  8\n",
            "index =  56 member =  3\n",
            "index =  57 member =  3\n",
            "index =  58 member =  7\n",
            "index =  59 member =  0\n",
            "index =  60 member =  8\n",
            "index =  61 member =  5\n",
            "index =  62 member =  2\n",
            "index =  63 member =  4\n",
            "index =  64 member =  5\n",
            "index =  65 member =  3\n",
            "index =  66 member =  0\n",
            "index =  67 member =  9\n",
            "index =  68 member =  2\n",
            "index =  69 member =  3\n",
            "index =  70 member =  7\n",
            "index =  71 member =  7\n",
            "index =  72 member =  5\n",
            "index =  73 member =  9\n",
            "index =  74 member =  5\n",
            "index =  75 member =  9\n",
            "index =  76 member =  3\n",
            "index =  77 member =  2\n",
            "index =  78 member =  6\n",
            "index =  79 member =  8\n",
            "index =  80 member =  4\n",
            "index =  81 member =  8\n",
            "index =  82 member =  0\n",
            "index =  83 member =  4\n",
            "index =  84 member =  6\n",
            "index =  85 member =  6\n",
            "index =  86 member =  9\n",
            "index =  87 member =  4\n",
            "index =  88 member =  7\n",
            "index =  89 member =  3\n",
            "index =  90 member =  9\n",
            "index =  91 member =  8\n",
            "index =  92 member =  4\n",
            "index =  93 member =  2\n",
            "index =  94 member =  5\n",
            "index =  95 member =  4\n",
            "index =  96 member =  1\n",
            "index =  97 member =  7\n",
            "index =  98 member =  2\n",
            "index =  99 member =  8\n"
          ]
        }
      ]
    },
    {
      "cell_type": "code",
      "source": [
        "count=0\n",
        "for i in range(10):\n",
        "    for j in range(10):\n",
        "        print(numbers[count],\" \", end =\" \")\n",
        "        count+=1\n",
        "    print(\"\\n\")"
      ],
      "metadata": {
        "colab": {
          "base_uri": "https://localhost:8080/"
        },
        "id": "s3LaJFDz9YPB",
        "outputId": "4b9dd650-e66a-4d7d-ad84-4c61b0e9852b"
      },
      "execution_count": 9,
      "outputs": [
        {
          "output_type": "stream",
          "name": "stdout",
          "text": [
            "4   7   2   2   0   1   8   3   6   0   \n",
            "\n",
            "7   7   5   8   3   8   2   5   6   3   \n",
            "\n",
            "0   1   8   7   1   3   3   2   5   2   \n",
            "\n",
            "0   6   8   2   9   5   3   4   3   4   \n",
            "\n",
            "3   7   9   0   4   2   3   6   6   7   \n",
            "\n",
            "6   1   1   2   7   8   3   3   7   0   \n",
            "\n",
            "8   5   2   4   5   3   0   9   2   3   \n",
            "\n",
            "7   7   5   9   5   9   3   2   6   8   \n",
            "\n",
            "4   8   0   4   6   6   9   4   7   3   \n",
            "\n",
            "9   8   4   2   5   4   1   7   2   8   \n",
            "\n"
          ]
        }
      ]
    },
    {
      "cell_type": "code",
      "source": [
        "sum=0\n",
        "for n in range (10): #repeats each row 10 times\n",
        "    for i in range(10): #repeats each integer 10 times\n",
        "       y=random.randint(0,9)\n",
        "       sum=sum+ y\n",
        "       print(y,end=\" \") #prints one integer with space at the end\n",
        "    print( \"*\",sum,end=\" \\n\")  #starts a new row after each 10 char\n",
        "    sum=0   "
      ],
      "metadata": {
        "colab": {
          "base_uri": "https://localhost:8080/"
        },
        "id": "II54XIon9ihY",
        "outputId": "1965ba62-d6d0-4036-b2cc-87d6bcb3223e"
      },
      "execution_count": 10,
      "outputs": [
        {
          "output_type": "stream",
          "name": "stdout",
          "text": [
            "8 2 2 2 8 9 9 0 5 1 * 46 \n",
            "6 5 8 1 3 7 7 6 3 9 * 55 \n",
            "6 3 2 3 9 3 4 6 5 1 * 42 \n",
            "6 4 4 5 6 9 5 8 9 5 * 61 \n",
            "5 7 1 9 4 4 4 8 6 2 * 50 \n",
            "9 7 4 8 1 8 6 9 1 5 * 58 \n",
            "1 3 0 7 8 1 4 0 8 0 * 32 \n",
            "2 2 7 3 4 7 6 2 9 5 * 47 \n",
            "3 1 8 9 9 0 9 5 6 3 * 53 \n",
            "5 8 5 0 4 5 8 1 2 1 * 39 \n"
          ]
        }
      ]
    },
    {
      "cell_type": "code",
      "source": [
        "for n in range (10): #repeats each row 10 times\n",
        "    sum=0\n",
        "    for i in range(10): #repeats each integer 10 times\n",
        "       y=random.randint(0,9)\n",
        "       sum=sum+ y\n",
        "       print(y,end=\" \") #prints one integer with space at the end\n",
        "    print( \"*\",sum,end=\" \\n\")  #starts a new row after each 10 char"
      ],
      "metadata": {
        "colab": {
          "base_uri": "https://localhost:8080/"
        },
        "id": "iDdzmk8Y9mnw",
        "outputId": "428df29d-12ba-49a4-b9c7-8c791f30edca"
      },
      "execution_count": 11,
      "outputs": [
        {
          "output_type": "stream",
          "name": "stdout",
          "text": [
            "2 7 2 0 7 0 4 1 1 7 * 31 \n",
            "1 0 5 3 7 7 8 9 6 8 * 54 \n",
            "6 7 1 9 4 9 3 3 2 2 * 46 \n",
            "6 2 5 1 1 0 1 6 9 0 * 31 \n",
            "5 3 5 4 5 2 4 5 1 9 * 43 \n",
            "8 5 9 0 0 3 2 4 5 6 * 42 \n",
            "1 3 2 9 2 4 8 7 9 7 * 52 \n",
            "9 8 4 4 1 3 7 6 2 9 * 53 \n",
            "0 9 0 0 3 8 9 1 7 3 * 40 \n",
            "8 9 6 5 1 1 3 4 4 3 * 44 \n"
          ]
        }
      ]
    },
    {
      "cell_type": "code",
      "source": [
        "x = [0,0,0,0,0,0]\n",
        "\n",
        "print(x)"
      ],
      "metadata": {
        "colab": {
          "base_uri": "https://localhost:8080/"
        },
        "id": "XbFH4_IS9rGo",
        "outputId": "7469462e-8b17-495e-e186-7958581c6b5f"
      },
      "execution_count": 12,
      "outputs": [
        {
          "output_type": "stream",
          "name": "stdout",
          "text": [
            "[0, 0, 0, 0, 0, 0]\n"
          ]
        }
      ]
    },
    {
      "cell_type": "code",
      "source": [
        "x = [0] * 6\n",
        "\n",
        "print(x)"
      ],
      "metadata": {
        "colab": {
          "base_uri": "https://localhost:8080/"
        },
        "id": "18VblWbd9unr",
        "outputId": "a5c0250e-ab04-4130-d8ad-0d4e122677c9"
      },
      "execution_count": 13,
      "outputs": [
        {
          "output_type": "stream",
          "name": "stdout",
          "text": [
            "[0, 0, 0, 0, 0, 0]\n"
          ]
        }
      ]
    },
    {
      "cell_type": "code",
      "source": [
        "x = [0] * 100\n",
        "\n",
        "print(x)"
      ],
      "metadata": {
        "colab": {
          "base_uri": "https://localhost:8080/"
        },
        "id": "KG1li9-N9yL0",
        "outputId": "c3c7b9bf-8b5c-49de-ed02-824e07b1a1e2"
      },
      "execution_count": 14,
      "outputs": [
        {
          "output_type": "stream",
          "name": "stdout",
          "text": [
            "[0, 0, 0, 0, 0, 0, 0, 0, 0, 0, 0, 0, 0, 0, 0, 0, 0, 0, 0, 0, 0, 0, 0, 0, 0, 0, 0, 0, 0, 0, 0, 0, 0, 0, 0, 0, 0, 0, 0, 0, 0, 0, 0, 0, 0, 0, 0, 0, 0, 0, 0, 0, 0, 0, 0, 0, 0, 0, 0, 0, 0, 0, 0, 0, 0, 0, 0, 0, 0, 0, 0, 0, 0, 0, 0, 0, 0, 0, 0, 0, 0, 0, 0, 0, 0, 0, 0, 0, 0, 0, 0, 0, 0, 0, 0, 0, 0, 0, 0, 0]\n"
          ]
        }
      ]
    },
    {
      "cell_type": "code",
      "source": [
        ""
      ],
      "metadata": {
        "id": "XlAN_i9w914G"
      },
      "execution_count": null,
      "outputs": []
    }
  ]
}
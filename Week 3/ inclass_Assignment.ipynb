{
  "nbformat": 4,
  "nbformat_minor": 0,
  "metadata": {
    "colab": {
      "name": "inclass_Assignment.ipynb",
      "provenance": [],
      "authorship_tag": "ABX9TyO/WmisKuGAIjrLsHlCZgf9",
      "include_colab_link": true
    },
    "kernelspec": {
      "name": "python3",
      "display_name": "Python 3"
    },
    "language_info": {
      "name": "python"
    }
  },
  "cells": [
    {
      "cell_type": "markdown",
      "metadata": {
        "id": "view-in-github",
        "colab_type": "text"
      },
      "source": [
        "<a href=\"https://colab.research.google.com/github/Sukesh-bitragunta/Sukesh_Data690/blob/main/Week%203/%20inclass_Assignment.ipynb\" target=\"_parent\"><img src=\"https://colab.research.google.com/assets/colab-badge.svg\" alt=\"Open In Colab\"/></a>"
      ]
    },
    {
      "cell_type": "code",
      "execution_count": 2,
      "metadata": {
        "colab": {
          "base_uri": "https://localhost:8080/"
        },
        "id": "Ugt7lCp7w_Ns",
        "outputId": "9345a616-2a38-40de-adef-ca895ce66221"
      },
      "outputs": [
        {
          "output_type": "stream",
          "name": "stdout",
          "text": [
            "[2, 5, 8, 'sukesh', 'pavan']\n"
          ]
        }
      ],
      "source": [
        "x = [2,5,8,'sukesh','pavan']\n",
        "print(x)"
      ]
    },
    {
      "cell_type": "code",
      "source": [
        "if 5 in x:\n",
        "  print('5 is in list')\n",
        "else:\n",
        "  print('5 is not in list')\n",
        "\n"
      ],
      "metadata": {
        "colab": {
          "base_uri": "https://localhost:8080/"
        },
        "id": "MFpbHa5mzVG3",
        "outputId": "633b5aa8-2057-4af9-e8a0-cb67683a44f2"
      },
      "execution_count": 3,
      "outputs": [
        {
          "output_type": "stream",
          "name": "stdout",
          "text": [
            "5 is in list\n"
          ]
        }
      ]
    },
    {
      "cell_type": "code",
      "source": [
        "y=[2,5,25,78,0,2,3,6]"
      ],
      "metadata": {
        "id": "rlNFCk9Zzujd"
      },
      "execution_count": 4,
      "outputs": []
    },
    {
      "cell_type": "code",
      "source": [
        "for b in y:\n",
        "  print(b)"
      ],
      "metadata": {
        "colab": {
          "base_uri": "https://localhost:8080/"
        },
        "id": "eoZld8ddz4Td",
        "outputId": "3104a670-4360-4c70-8482-71d9cb57ccd4"
      },
      "execution_count": 6,
      "outputs": [
        {
          "output_type": "stream",
          "name": "stdout",
          "text": [
            "2\n",
            "5\n",
            "25\n",
            "78\n",
            "0\n",
            "2\n",
            "3\n",
            "6\n"
          ]
        }
      ]
    },
    {
      "cell_type": "code",
      "source": [
        "for b in y:\n",
        "  print(b,end=\" \")"
      ],
      "metadata": {
        "colab": {
          "base_uri": "https://localhost:8080/"
        },
        "id": "ojk2-5mPz78e",
        "outputId": "3b937e02-b152-4c93-a547-7143fd1cc295"
      },
      "execution_count": 8,
      "outputs": [
        {
          "output_type": "stream",
          "name": "stdout",
          "text": [
            "2 5 25 78 0 2 3 6 "
          ]
        }
      ]
    },
    {
      "cell_type": "code",
      "source": [
        "import random\n",
        "random.randint(-204,-98)"
      ],
      "metadata": {
        "colab": {
          "base_uri": "https://localhost:8080/"
        },
        "id": "c0_wN_W40GSv",
        "outputId": "95592ea7-f18e-4467-98fb-f52fb8ead5cd"
      },
      "execution_count": 10,
      "outputs": [
        {
          "output_type": "execute_result",
          "data": {
            "text/plain": [
              "-103"
            ]
          },
          "metadata": {},
          "execution_count": 10
        }
      ]
    },
    {
      "cell_type": "code",
      "source": [
        "\n",
        "for i in range(0,10):\n",
        "  for x in range(0,10):\n",
        "    print(random.randint(0,9),end=\" \")\n",
        "  print('')\n",
        "  \n",
        "\n",
        "  "
      ],
      "metadata": {
        "colab": {
          "base_uri": "https://localhost:8080/"
        },
        "id": "3a1HOR7H0dtC",
        "outputId": "56c31da6-0336-46dc-9008-b27ea575c147"
      },
      "execution_count": 18,
      "outputs": [
        {
          "output_type": "stream",
          "name": "stdout",
          "text": [
            "4 6 9 6 0 7 4 9 5 5 \n",
            "2 9 9 4 8 6 1 5 5 6 \n",
            "3 7 2 7 8 9 9 2 5 6 \n",
            "8 8 1 6 1 8 8 8 6 6 \n",
            "1 2 8 3 2 2 4 3 9 3 \n",
            "7 0 9 0 0 5 6 2 4 9 \n",
            "0 2 0 5 6 0 1 2 5 2 \n",
            "6 9 8 1 6 1 7 1 9 4 \n",
            "8 0 0 2 6 0 3 3 6 4 \n",
            "0 7 1 7 7 1 9 8 8 2 \n"
          ]
        }
      ]
    },
    {
      "cell_type": "code",
      "source": [
        ""
      ],
      "metadata": {
        "id": "bfZTKVgn0w2x"
      },
      "execution_count": null,
      "outputs": []
    }
  ]
}